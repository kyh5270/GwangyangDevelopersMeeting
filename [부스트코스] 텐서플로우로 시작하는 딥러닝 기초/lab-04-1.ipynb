{
 "nbformat": 4,
 "nbformat_minor": 2,
 "metadata": {
  "language_info": {
   "name": "python",
   "codemirror_mode": {
    "name": "ipython",
    "version": 3
   },
   "version": "3.6.8-final"
  },
  "orig_nbformat": 2,
  "file_extension": ".py",
  "mimetype": "text/x-python",
  "name": "python",
  "npconvert_exporter": "python",
  "pygments_lexer": "ipython3",
  "version": 3,
  "kernelspec": {
   "name": "python36864bitconda76eb698fec214df6acfc8eb94bbb30c7",
   "display_name": "Python 3.6.8 64-bit (conda)"
  }
 },
 "cells": [
  {
   "cell_type": "code",
   "execution_count": 1,
   "metadata": {},
   "outputs": [
    {
     "name": "stdout",
     "output_type": "stream",
     "text": "2.0.0\n"
    }
   ],
   "source": [
    "import tensorflow as tf\n",
    "import numpy as np\n",
    "\n",
    "print(tf.__version__)"
   ]
  },
  {
   "cell_type": "code",
   "execution_count": 2,
   "metadata": {},
   "outputs": [],
   "source": [
    "tf.random.set_seed(0)  # for reproducibility"
   ]
  },
  {
   "cell_type": "code",
   "execution_count": 4,
   "metadata": {},
   "outputs": [
    {
     "name": "stdout",
     "output_type": "stream",
     "text": "0 | 966.489624 |    -6.3849 |    -9.6386 |  -1.997182\n   50 | 290.719482 |    -2.5520 |    -6.0406 |   0.083186\n  100 |  97.416336 |    -0.8520 |    -3.7830 |   1.185548\n  150 |  36.060600 |    -0.1155 |    -2.3524 |   1.777458\n  200 |  14.622516 |     0.1927 |    -1.4381 |   2.096439\n  250 |   6.551729 |     0.3151 |    -0.8494 |   2.265759\n  300 |   3.350713 |     0.3601 |    -0.4675 |   2.350938\n  350 |   2.032307 |     0.3750 |    -0.2176 |   2.387711\n  400 |   1.469417 |     0.3797 |    -0.0524 |   2.396086\n  450 |   1.216593 |     0.3823 |     0.0583 |   2.387553\n  500 |   1.092846 |     0.3854 |     0.1338 |   2.368865\n  550 |   1.023482 |     0.3899 |     0.1865 |   2.344070\n  600 |   0.977404 |     0.3956 |     0.2244 |   2.315640\n  650 |   0.941599 |     0.4023 |     0.2527 |   2.285101\n  700 |   0.910600 |     0.4097 |     0.2748 |   2.253407\n  750 |   0.882098 |     0.4175 |     0.2927 |   2.221159\n  800 |   0.855110 |     0.4255 |     0.3080 |   2.188733\n  850 |   0.829210 |     0.4337 |     0.3214 |   2.156371\n  900 |   0.804204 |     0.4420 |     0.3335 |   2.124223\n  950 |   0.779998 |     0.4502 |     0.3448 |   2.092385\n 1000 |   0.756540 |     0.4584 |     0.3556 |   2.060913\n"
    }
   ],
   "source": [
    "x1_data = [1, 0, 3, 0, 5]\n",
    "x2_data = [0, 2, 0, 4, 0]\n",
    "y_data  = [1, 2, 3, 4, 5]\n",
    "\n",
    "W1 = tf.Variable(tf.random.uniform((1,), -10.0, 10.0))\n",
    "W2 = tf.Variable(tf.random.uniform((1,), -10.0, 10.0))\n",
    "b  = tf.Variable(tf.random.uniform((1,), -10.0, 10.0))\n",
    "\n",
    "learning_rate = tf.Variable(0.001)\n",
    "\n",
    "for i in range(1000+1):\n",
    "    with tf.GradientTape() as tape:\n",
    "        hypothesis = W1 * x1_data + W2 * x2_data + b\n",
    "        cost = tf.reduce_mean(tf.square(hypothesis - y_data))\n",
    "    W1_grad, W2_grad, b_grad = tape.gradient(cost, [W1, W2, b])\n",
    "    \n",
    "    W1.assign_sub(learning_rate * W1_grad)\n",
    "    W2.assign_sub(learning_rate * W2_grad)\n",
    "    b.assign_sub(learning_rate * b_grad)\n",
    "\n",
    "    if i % 50 == 0:\n",
    "        print(\"{:5} | {:10.6f} | {:10.4f} | {:10.4f} | {:10.6f}\".format(\n",
    "          i, cost.numpy(), W1.numpy()[0], W2.numpy()[0], b.numpy()[0]))"
   ]
  },
  {
   "cell_type": "code",
   "execution_count": 5,
   "metadata": {},
   "outputs": [
    {
     "name": "stdout",
     "output_type": "stream",
     "text": "0 |  30.003744 |    -0.8693 |    -0.6099 |   0.562821\n   50 |   7.836334 |    -0.0238 |    -0.1530 |   0.904018\n  100 |   2.377153 |     0.3633 |     0.1291 |   1.070535\n  150 |   0.924887 |     0.5399 |     0.3063 |   1.149366\n  200 |   0.495451 |     0.6204 |     0.4197 |   1.183373\n  250 |   0.350969 |     0.6575 |     0.4935 |   1.194003\n  300 |   0.294564 |     0.6755 |     0.5426 |   1.192192\n  350 |   0.268330 |     0.6851 |     0.5760 |   1.183638\n  400 |   0.253377 |     0.6913 |     0.5994 |   1.171381\n  450 |   0.242959 |     0.6961 |     0.6164 |   1.157086\n  500 |   0.234499 |     0.7004 |     0.6293 |   1.141689\n  550 |   0.226969 |     0.7046 |     0.6394 |   1.125728\n  600 |   0.219946 |     0.7087 |     0.6478 |   1.109518\n  650 |   0.213252 |     0.7129 |     0.6551 |   1.093248\n  700 |   0.206807 |     0.7171 |     0.6615 |   1.077033\n  750 |   0.200576 |     0.7213 |     0.6674 |   1.060942\n  800 |   0.194542 |     0.7254 |     0.6730 |   1.045016\n  850 |   0.188692 |     0.7295 |     0.6783 |   1.029283\n  900 |   0.183020 |     0.7336 |     0.6834 |   1.013755\n  950 |   0.177519 |     0.7376 |     0.6883 |   0.998442\n 1000 |   0.172183 |     0.7415 |     0.6931 |   0.983348\n"
    }
   ],
   "source": [
    "x_data = [\n",
    "    [1., 0., 3., 0., 5.],\n",
    "    [0., 2., 0., 4., 0.]\n",
    "]\n",
    "y_data  = [1, 2, 3, 4, 5]\n",
    "\n",
    "W = tf.Variable(tf.random.uniform((1, 2), -1.0, 1.0))\n",
    "b = tf.Variable(tf.random.uniform((1,), -1.0, 1.0))\n",
    "\n",
    "learning_rate = tf.Variable(0.001)\n",
    "\n",
    "for i in range(1000+1):\n",
    "    with tf.GradientTape() as tape:\n",
    "        hypothesis = tf.matmul(W, x_data) + b\n",
    "        cost = tf.reduce_mean(tf.square(hypothesis - y_data))\n",
    "\n",
    "        W_grad, b_grad = tape.gradient(cost, [W, b])\n",
    "        W.assign_sub(learning_rate * W_grad)\n",
    "        b.assign_sub(learning_rate * b_grad)\n",
    "    \n",
    "    if i % 50 == 0:\n",
    "        print(\"{:5} | {:10.6f} | {:10.4f} | {:10.4f} | {:10.6f}\".format(\n",
    "            i, cost.numpy(), W.numpy()[0][0], W.numpy()[0][1], b.numpy()[0]))"
   ]
  },
  {
   "cell_type": "code",
   "execution_count": 8,
   "metadata": {},
   "outputs": [
    {
     "name": "stdout",
     "output_type": "stream",
     "text": "0 |  21.931831 |     0.0647 |    -0.7119 |     0.4413\n   50 |   4.901238 |     0.3252 |     0.1250 |     0.6045\n  100 |   1.138956 |     0.4462 |     0.5157 |     0.6960\n  150 |   0.301578 |     0.5006 |     0.6983 |     0.7491\n  200 |   0.112023 |     0.5231 |     0.7840 |     0.7811\n  250 |   0.067243 |     0.5302 |     0.8246 |     0.8011\n  300 |   0.055370 |     0.5299 |     0.8443 |     0.8143\n  350 |   0.051222 |     0.5258 |     0.8544 |     0.8233\n  400 |   0.049002 |     0.5200 |     0.8601 |     0.8299\n  450 |   0.047323 |     0.5133 |     0.8637 |     0.8349\n  500 |   0.045832 |     0.5061 |     0.8664 |     0.8389\n  550 |   0.044429 |     0.4988 |     0.8687 |     0.8424\n  600 |   0.043084 |     0.4915 |     0.8707 |     0.8454\n  650 |   0.041785 |     0.4842 |     0.8727 |     0.8481\n  700 |   0.040528 |     0.4769 |     0.8746 |     0.8507\n  750 |   0.039309 |     0.4698 |     0.8765 |     0.8531\n  800 |   0.038127 |     0.4627 |     0.8784 |     0.8555\n  850 |   0.036981 |     0.4557 |     0.8802 |     0.8577\n  900 |   0.035870 |     0.4488 |     0.8820 |     0.8599\n  950 |   0.034792 |     0.4420 |     0.8838 |     0.8621\n 1000 |   0.033746 |     0.4353 |     0.8856 |     0.8642\n"
    }
   ],
   "source": [
    "import tensorflow as tf\n",
    "\n",
    "# 앞의 코드에서 bias(b)를 행렬에 추가\n",
    "x_data = [\n",
    "    [1., 1., 1., 1., 1.], # bias(b)\n",
    "    [1., 0., 3., 0., 5.], \n",
    "    [0., 2., 0., 4., 0.]\n",
    "]\n",
    "y_data  = [1, 2, 3, 4, 5]\n",
    "\n",
    "W = tf.Variable(tf.random.uniform((1, 3), -1.0, 1.0))\n",
    "\n",
    "learning_rate = 0.001\n",
    "optimizer = tf.keras.optimizers.SGD(learning_rate)\n",
    "\n",
    "for i in range(1000+1):\n",
    "    with tf.GradientTape() as tape:\n",
    "        hypothesis = tf.matmul(W, x_data)\n",
    "        cost = tf.reduce_mean(tf.square(hypothesis - y_data))\n",
    "    \n",
    "    grads = tape.gradient(cost, [W])\n",
    "    optimizer.apply_gradients(grads_and_vars=zip(grads,[W]))\n",
    "    if i % 50 == 0:\n",
    "        print(\"{:5} | {:10.6f} | {:10.4f} | {:10.4f} | {:10.4f}\".format(\n",
    "            i, cost.numpy(), W.numpy()[0][0], W.numpy()[0][1], W.numpy()[0][2]))"
   ]
  },
  {
   "cell_type": "code",
   "execution_count": 9,
   "metadata": {},
   "outputs": [
    {
     "name": "stdout",
     "output_type": "stream",
     "text": "epoch | cost\n    0 |   0.932096\n   50 |   0.612641\n  100 |   0.418868\n  150 |   0.286384\n  200 |   0.195804\n  250 |   0.133873\n  300 |   0.091530\n  350 |   0.062580\n  400 |   0.042786\n  450 |   0.029253\n  500 |   0.020001\n  550 |   0.013675\n  600 |   0.009350\n  650 |   0.006392\n  700 |   0.004371\n  750 |   0.002988\n  800 |   0.002043\n  850 |   0.001397\n  900 |   0.000955\n  950 |   0.000653\n 1000 |   0.000446\n"
    }
   ],
   "source": [
    "# Multi-variable linear regression (1)\n",
    "\n",
    "X = tf.constant([[1., 2.], \n",
    "                 [3., 4.]])\n",
    "y = tf.constant([[1.5], [3.5]])\n",
    "\n",
    "W = tf.Variable(tf.random.normal((2, 1)))\n",
    "b = tf.Variable(tf.random.normal((1,)))\n",
    "\n",
    "# Create an optimizer\n",
    "optimizer = tf.keras.optimizers.SGD(learning_rate=0.01)\n",
    "\n",
    "n_epoch = 1000+1\n",
    "print(\"epoch | cost\")\n",
    "for i in range(n_epoch):\n",
    "    # Use tf.GradientTape() to record the gradient of the cost function\n",
    "    with tf.GradientTape() as tape:\n",
    "        y_pred = tf.matmul(X, W) + b\n",
    "        cost = tf.reduce_mean(tf.square(y_pred - y))\n",
    "\n",
    "    # calculates the gradients of the loss\n",
    "    grads = tape.gradient(cost, [W, b])\n",
    "    \n",
    "    # updates parameters (W and b)\n",
    "    optimizer.apply_gradients(grads_and_vars=zip(grads, [W, b]))\n",
    "    if i % 50 == 0:\n",
    "        print(\"{:5} | {:10.6f}\".format(i, cost.numpy()))\n"
   ]
  },
  {
   "cell_type": "code",
   "execution_count": 10,
   "metadata": {},
   "outputs": [],
   "source": [
    "tf.random.set_seed(0)  # for reproducibility"
   ]
  },
  {
   "cell_type": "code",
   "execution_count": 11,
   "metadata": {},
   "outputs": [
    {
     "name": "stdout",
     "output_type": "stream",
     "text": "0 | 5793889.5000\n   50 |   64291.1562\n  100 |     715.2902\n  150 |       9.8461\n  200 |       2.0153\n  250 |       1.9252\n  300 |       1.9210\n  350 |       1.9177\n  400 |       1.9145\n  450 |       1.9114\n  500 |       1.9081\n  550 |       1.9050\n  600 |       1.9018\n  650 |       1.8986\n  700 |       1.8955\n  750 |       1.8923\n  800 |       1.8892\n  850 |       1.8860\n  900 |       1.8829\n  950 |       1.8798\n 1000 |       1.8767\n"
    }
   ],
   "source": [
    "# data and label\n",
    "x1 = [ 73.,  93.,  89.,  96.,  73.]\n",
    "x2 = [ 80.,  88.,  91.,  98.,  66.]\n",
    "x3 = [ 75.,  93.,  90., 100.,  70.]\n",
    "Y  = [152., 185., 180., 196., 142.]\n",
    "\n",
    "# weights\n",
    "w1 = tf.Variable(10.)\n",
    "w2 = tf.Variable(10.)\n",
    "w3 = tf.Variable(10.)\n",
    "b  = tf.Variable(10.)\n",
    "\n",
    "learning_rate = 0.000001\n",
    "\n",
    "for i in range(1000+1):\n",
    "    # tf.GradientTape() to record the gradient of the cost function\n",
    "    with tf.GradientTape() as tape:\n",
    "        hypothesis = w1 * x1 +  w2 * x2 + w3 * x3 + b\n",
    "        cost = tf.reduce_mean(tf.square(hypothesis - Y))\n",
    "    # calculates the gradients of the cost\n",
    "    w1_grad, w2_grad, w3_grad, b_grad = tape.gradient(cost, [w1, w2, w3, b])\n",
    "    \n",
    "    # update w1,w2,w3 and b\n",
    "    w1.assign_sub(learning_rate * w1_grad)\n",
    "    w2.assign_sub(learning_rate * w2_grad)\n",
    "    w3.assign_sub(learning_rate * w3_grad)\n",
    "    b.assign_sub(learning_rate * b_grad)\n",
    "\n",
    "    if i % 50 == 0:\n",
    "      print(\"{:5} | {:12.4f}\".format(i, cost.numpy()))"
   ]
  },
  {
   "cell_type": "code",
   "execution_count": 12,
   "metadata": {},
   "outputs": [
    {
     "name": "stdout",
     "output_type": "stream",
     "text": "0 |   11325.9121\n   50 |     135.3618\n  100 |      11.1817\n  150 |       9.7940\n  200 |       9.7687\n  250 |       9.7587\n  300 |       9.7489\n  350 |       9.7389\n  400 |       9.7292\n  450 |       9.7194\n  500 |       9.7096\n  550 |       9.6999\n  600 |       9.6903\n  650 |       9.6806\n  700 |       9.6709\n  750 |       9.6612\n  800 |       9.6517\n  850 |       9.6421\n  900 |       9.6325\n  950 |       9.6229\n 1000 |       9.6134\n"
    }
   ],
   "source": [
    "# data and label\n",
    "x1 = [ 73.,  93.,  89.,  96.,  73.]\n",
    "x2 = [ 80.,  88.,  91.,  98.,  66.]\n",
    "x3 = [ 75.,  93.,  90., 100.,  70.]\n",
    "Y  = [152., 185., 180., 196., 142.]\n",
    "\n",
    "# random weights\n",
    "w1 = tf.Variable(tf.random.normal((1,)))\n",
    "w2 = tf.Variable(tf.random.normal((1,)))\n",
    "w3 = tf.Variable(tf.random.normal((1,)))\n",
    "b  = tf.Variable(tf.random.normal((1,)))\n",
    "\n",
    "learning_rate = 0.000001\n",
    "\n",
    "for i in range(1000+1):\n",
    "    # tf.GradientTape() to record the gradient of the cost function\n",
    "    with tf.GradientTape() as tape:\n",
    "        hypothesis = w1 * x1 +  w2 * x2 + w3 * x3 + b\n",
    "        cost = tf.reduce_mean(tf.square(hypothesis - Y))\n",
    "    # calculates the gradients of the cost\n",
    "    w1_grad, w2_grad, w3_grad, b_grad = tape.gradient(cost, [w1, w2, w3, b])\n",
    "    \n",
    "    # update w1,w2,w3 and b\n",
    "    w1.assign_sub(learning_rate * w1_grad)\n",
    "    w2.assign_sub(learning_rate * w2_grad)\n",
    "    w3.assign_sub(learning_rate * w3_grad)\n",
    "    b.assign_sub(learning_rate * b_grad)\n",
    "\n",
    "    if i % 50 == 0:\n",
    "      print(\"{:5} | {:12.4f}\".format(i, cost.numpy()))\n"
   ]
  },
  {
   "cell_type": "code",
   "execution_count": 13,
   "metadata": {},
   "outputs": [
    {
     "name": "stdout",
     "output_type": "stream",
     "text": "epoch | cost\n    0 |  5455.5903\n  100 |    31.7444\n  200 |    30.9326\n  300 |    30.7893\n  400 |    30.6468\n  500 |    30.5054\n  600 |    30.3644\n  700 |    30.2242\n  800 |    30.0848\n  900 |    29.9465\n 1000 |    29.8081\n 1100 |    29.6710\n 1200 |    29.5347\n 1300 |    29.3989\n 1400 |    29.2640\n 1500 |    29.1299\n 1600 |    28.9962\n 1700 |    28.8632\n 1800 |    28.7311\n 1900 |    28.5996\n 2000 |    28.4688\n"
    }
   ],
   "source": [
    "data = np.array([\n",
    "    # X1,   X2,    X3,   y\n",
    "    [ 73.,  80.,  75., 152. ],\n",
    "    [ 93.,  88.,  93., 185. ],\n",
    "    [ 89.,  91.,  90., 180. ],\n",
    "    [ 96.,  98., 100., 196. ],\n",
    "    [ 73.,  66.,  70., 142. ]\n",
    "], dtype=np.float32)\n",
    "\n",
    "# slice data\n",
    "X = data[:, :-1]\n",
    "y = data[:, [-1]]\n",
    "\n",
    "W = tf.Variable(tf.random.normal((3, 1)))\n",
    "b = tf.Variable(tf.random.normal((1,)))\n",
    "\n",
    "learning_rate = 0.000001\n",
    "\n",
    "# hypothesis, prediction function\n",
    "def predict(X):\n",
    "    return tf.matmul(X, W) + b\n",
    "\n",
    "print(\"epoch | cost\")\n",
    "\n",
    "n_epochs = 2000\n",
    "for i in range(n_epochs+1):\n",
    "    # tf.GradientTape() to record the gradient of the cost function\n",
    "    with tf.GradientTape() as tape:\n",
    "        cost = tf.reduce_mean((tf.square(predict(X) - y)))\n",
    "\n",
    "    # calculates the gradients of the loss\n",
    "    W_grad, b_grad = tape.gradient(cost, [W, b])\n",
    "\n",
    "    # updates parameters (W and b)\n",
    "    W.assign_sub(learning_rate * W_grad)\n",
    "    b.assign_sub(learning_rate * b_grad)\n",
    "    \n",
    "    if i % 100 == 0:\n",
    "        print(\"{:5} | {:10.4f}\".format(i, cost.numpy()))"
   ]
  },
  {
   "cell_type": "code",
   "execution_count": 14,
   "metadata": {},
   "outputs": [
    {
     "data": {
      "text/plain": "array([[160.38489],\n       [178.98067],\n       [184.08968],\n       [194.17314],\n       [138.03302]], dtype=float32)"
     },
     "execution_count": 14,
     "metadata": {},
     "output_type": "execute_result"
    }
   ],
   "source": [
    "predict(X).numpy() # prediction, 예측값"
   ]
  },
  {
   "cell_type": "code",
   "execution_count": 15,
   "metadata": {},
   "outputs": [
    {
     "data": {
      "text/plain": "array([[189.66275],\n       [186.46652]], dtype=float32)"
     },
     "execution_count": 15,
     "metadata": {},
     "output_type": "execute_result"
    }
   ],
   "source": [
    "# 새로운 데이터에 대한 예측\n",
    "\n",
    "predict([[ 89.,  95.,  92.],[ 84.,  92.,  85.]]).numpy() "
   ]
  },
  {
   "cell_type": "code",
   "execution_count": null,
   "metadata": {},
   "outputs": [],
   "source": []
  },
  {
   "cell_type": "code",
   "execution_count": null,
   "metadata": {},
   "outputs": [],
   "source": []
  },
  {
   "cell_type": "code",
   "execution_count": null,
   "metadata": {},
   "outputs": [],
   "source": []
  },
  {
   "cell_type": "code",
   "execution_count": null,
   "metadata": {},
   "outputs": [],
   "source": []
  }
 ]
}